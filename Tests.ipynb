{
 "cells": [
  {
   "metadata": {},
   "cell_type": "markdown",
   "source": "# Тестовое пространство, НЕ ОСНОВНОЙ ФАЙЛ ПРОГРАММЫ",
   "id": "6a3825bb471226c"
  },
  {
   "cell_type": "code",
   "id": "initial_id",
   "metadata": {
    "ExecuteTime": {
     "end_time": "2025-03-16T14:06:22.708498Z",
     "start_time": "2025-03-16T14:06:22.180551Z"
    }
   },
   "source": [
    "import numpy as np\n",
    "import pandas as pd\n",
    "import matplotlib.pyplot as plt"
   ],
   "outputs": [],
   "execution_count": 1
  },
  {
   "cell_type": "markdown",
   "id": "2f0c7916514cf5c5",
   "metadata": {},
   "source": [
    "## Создание модели"
   ]
  },
  {
   "cell_type": "code",
   "id": "f90a0d2d19cddff7",
   "metadata": {
    "ExecuteTime": {
     "end_time": "2025-03-16T14:06:28.545832Z",
     "start_time": "2025-03-16T14:06:24.454189Z"
    }
   },
   "source": [
    "from App.states.DataState import DataState\n",
    "from App.Data import Data\n",
    "from App.ml.MainModel import Model\n",
    "\n",
    "data = Data(size=(800, 800))\n",
    "data.model = Model(data)\n",
    "\n",
    "df = pd.read_csv(\"open-meteo-52.55N13.41E38m.csv\")\n",
    "df.columns = ['time', 'temperature']\n",
    "df['time'] = pd.to_datetime(df['time'])\n",
    "\n",
    "df = df.resample('ME', on='time').mean()\n",
    "df = df.reset_index()\n",
    "\n",
    "data.dataState = DataState()\n",
    "data.dataState.importedData = df\n",
    "\n",
    "data.model.load_data()\n",
    "data.model.scale_data()\n",
    "data.model.prepare_data()\n",
    "data.model.create_model(modelType='LSTM')\n",
    "data.model.train_model(10)"
   ],
   "outputs": [
    {
     "name": "stdout",
     "output_type": "stream",
     "text": [
      "Epoch 1/10\n",
      "109/109 - 1s - 7ms/step - loss: 0.1108\n",
      "Epoch 2/10\n",
      "109/109 - 0s - 2ms/step - loss: 0.0726\n",
      "Epoch 3/10\n",
      "109/109 - 0s - 2ms/step - loss: 0.0354\n",
      "Epoch 4/10\n",
      "109/109 - 0s - 2ms/step - loss: 0.0147\n",
      "Epoch 5/10\n",
      "109/109 - 0s - 2ms/step - loss: 0.0131\n",
      "Epoch 6/10\n",
      "109/109 - 0s - 2ms/step - loss: 0.0124\n",
      "Epoch 7/10\n",
      "109/109 - 0s - 2ms/step - loss: 0.0120\n",
      "Epoch 8/10\n",
      "109/109 - 0s - 2ms/step - loss: 0.0115\n",
      "Epoch 9/10\n",
      "109/109 - 0s - 2ms/step - loss: 0.0110\n",
      "Epoch 10/10\n",
      "109/109 - 0s - 2ms/step - loss: 0.0105\n"
     ]
    }
   ],
   "execution_count": 2
  },
  {
   "metadata": {},
   "cell_type": "markdown",
   "source": "Сохранение модели",
   "id": "e3d6eafb57763272"
  },
  {
   "metadata": {},
   "cell_type": "code",
   "outputs": [],
   "execution_count": null,
   "source": "",
   "id": "af4200f08dc180fa"
  }
 ],
 "metadata": {
  "kernelspec": {
   "display_name": "Python 3 (ipykernel)",
   "language": "python",
   "name": "python3"
  },
  "language_info": {
   "codemirror_mode": {
    "name": "ipython",
    "version": 3
   },
   "file_extension": ".py",
   "mimetype": "text/x-python",
   "name": "python",
   "nbconvert_exporter": "python",
   "pygments_lexer": "ipython3",
   "version": "3.12.4"
  }
 },
 "nbformat": 4,
 "nbformat_minor": 5
}
